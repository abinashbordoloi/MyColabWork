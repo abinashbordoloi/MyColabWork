{
 "cells": [
  {
   "cell_type": "code",
   "execution_count": 1,
   "id": "00308757",
   "metadata": {
    "_cell_guid": "ba8e5496-7188-40be-b195-b3b9150c598e",
    "_uuid": "388894c6-f1dd-4939-8368-fbfc273e3a46",
    "collapsed": false,
    "execution": {
     "iopub.execute_input": "2024-08-10T18:28:18.761785Z",
     "iopub.status.busy": "2024-08-10T18:28:18.761372Z",
     "iopub.status.idle": "2024-08-10T18:28:21.736827Z",
     "shell.execute_reply": "2024-08-10T18:28:21.735554Z"
    },
    "jupyter": {
     "outputs_hidden": false
    },
    "papermill": {
     "duration": 2.987344,
     "end_time": "2024-08-10T18:28:21.739350",
     "exception": false,
     "start_time": "2024-08-10T18:28:18.752006",
     "status": "completed"
    },
    "tags": []
   },
   "outputs": [],
   "source": [
    "import pandas as pd\n",
    "import numpy as np\n",
    "import seaborn as sns\n",
    "import matplotlib.pyplot as plt\n",
    "\n",
    "from sklearn.impute import SimpleImputer\n",
    "from sklearn.model_selection import train_test_split\n",
    "import pandas as pd\n",
    "import numpy as np\n",
    "import seaborn as sns\n",
    "import matplotlib.pyplot as plt\n",
    "\n",
    "from sklearn.impute import SimpleImputer\n",
    "from sklearn.preprocessing import StandardScaler, LabelEncoder\n",
    "from sklearn.compose import ColumnTransformer\n",
    "from sklearn.pipeline import Pipeline\n",
    "from sklearn.model_selection import train_test_split\n",
    "from sklearn.metrics import accuracy_score, classification_report\n",
    "import xgboost as xgb\n",
    "from sklearn.preprocessing import OneHotEncoder, StandardScaler\n",
    "from sklearn.svm import SVC"
   ]
  },
  {
   "cell_type": "code",
   "execution_count": 2,
   "id": "62f734d5",
   "metadata": {
    "execution": {
     "iopub.execute_input": "2024-08-10T18:28:21.756665Z",
     "iopub.status.busy": "2024-08-10T18:28:21.756063Z",
     "iopub.status.idle": "2024-08-10T18:28:21.998229Z",
     "shell.execute_reply": "2024-08-10T18:28:21.996964Z"
    },
    "papermill": {
     "duration": 0.25336,
     "end_time": "2024-08-10T18:28:22.000677",
     "exception": false,
     "start_time": "2024-08-10T18:28:21.747317",
     "status": "completed"
    },
    "tags": []
   },
   "outputs": [
    {
     "name": "stdout",
     "output_type": "stream",
     "text": [
      "<class 'pandas.core.frame.DataFrame'>\n",
      "RangeIndex: 20000 entries, 0 to 19999\n",
      "Data columns (total 22 columns):\n",
      " #   Column                 Non-Null Count  Dtype  \n",
      "---  ------                 --------------  -----  \n",
      " 0   Location               20000 non-null  object \n",
      " 1   Cross_Street           3448 non-null   object \n",
      " 2   Latitude               20000 non-null  float64\n",
      " 3   Longitude              20000 non-null  float64\n",
      " 4   Date_Reported          20000 non-null  object \n",
      " 5   Date_Occurred          20000 non-null  object \n",
      " 6   Time_Occurred          20000 non-null  float64\n",
      " 7   Area_ID                20000 non-null  float64\n",
      " 8   Area_Name              20000 non-null  object \n",
      " 9   Reporting_District_no  20000 non-null  float64\n",
      " 10  Part 1-2               20000 non-null  float64\n",
      " 11  Modus_Operandi         17259 non-null  object \n",
      " 12  Victim_Age             20000 non-null  float64\n",
      " 13  Victim_Sex             17376 non-null  object \n",
      " 14  Victim_Descent         17376 non-null  object \n",
      " 15  Premise_Code           20000 non-null  float64\n",
      " 16  Premise_Description    19995 non-null  object \n",
      " 17  Weapon_Used_Code       7335 non-null   float64\n",
      " 18  Weapon_Description     7335 non-null   object \n",
      " 19  Status                 20000 non-null  object \n",
      " 20  Status_Description     20000 non-null  object \n",
      " 21  Crime_Category         20000 non-null  object \n",
      "dtypes: float64(9), object(13)\n",
      "memory usage: 3.4+ MB\n"
     ]
    }
   ],
   "source": [
    "train_data = pd.read_csv('/kaggle/input/crime-cast-forecasting-crime-categories/train.csv')\n",
    "test_data = pd.read_csv(\"/kaggle/input/crime-cast-forecasting-crime-categories/test.csv\")\n",
    "train_data.info()"
   ]
  },
  {
   "cell_type": "code",
   "execution_count": 3,
   "id": "5b14739c",
   "metadata": {
    "execution": {
     "iopub.execute_input": "2024-08-10T18:28:22.018007Z",
     "iopub.status.busy": "2024-08-10T18:28:22.017573Z",
     "iopub.status.idle": "2024-08-10T18:28:22.025537Z",
     "shell.execute_reply": "2024-08-10T18:28:22.024287Z"
    },
    "papermill": {
     "duration": 0.019489,
     "end_time": "2024-08-10T18:28:22.027769",
     "exception": false,
     "start_time": "2024-08-10T18:28:22.008280",
     "status": "completed"
    },
    "tags": []
   },
   "outputs": [
    {
     "data": {
      "text/plain": [
       "pandas.core.frame.DataFrame"
      ]
     },
     "execution_count": 3,
     "metadata": {},
     "output_type": "execute_result"
    }
   ],
   "source": [
    "type(train_data)"
   ]
  },
  {
   "cell_type": "code",
   "execution_count": 4,
   "id": "f4090005",
   "metadata": {
    "execution": {
     "iopub.execute_input": "2024-08-10T18:28:22.045134Z",
     "iopub.status.busy": "2024-08-10T18:28:22.044751Z",
     "iopub.status.idle": "2024-08-10T18:28:22.069422Z",
     "shell.execute_reply": "2024-08-10T18:28:22.068412Z"
    },
    "papermill": {
     "duration": 0.035653,
     "end_time": "2024-08-10T18:28:22.071682",
     "exception": false,
     "start_time": "2024-08-10T18:28:22.036029",
     "status": "completed"
    },
    "tags": []
   },
   "outputs": [
    {
     "data": {
      "text/plain": [
       "Location                    0\n",
       "Cross_Street             4190\n",
       "Latitude                    0\n",
       "Longitude                   0\n",
       "Date_Reported               0\n",
       "Date_Occurred               0\n",
       "Time_Occurred               0\n",
       "Area_ID                     0\n",
       "Area_Name                   0\n",
       "Reporting_District_no       0\n",
       "Part 1-2                    0\n",
       "Modus_Operandi            684\n",
       "Victim_Age                  0\n",
       "Victim_Sex                643\n",
       "Victim_Descent            643\n",
       "Premise_Code                0\n",
       "Premise_Description         1\n",
       "Weapon_Used_Code         3153\n",
       "Weapon_Description       3153\n",
       "Status                      0\n",
       "Status_Description          0\n",
       "dtype: int64"
      ]
     },
     "execution_count": 4,
     "metadata": {},
     "output_type": "execute_result"
    }
   ],
   "source": [
    "# print(train_data.info())\n",
    "# # print(train_data.describe())\n",
    "# # print(train_data.head())\n",
    "# # train_data.columns\n",
    "# # print(train_data.shape)\n",
    "train_data.isnull().sum()\n",
    "test_data.isnull().sum()\n",
    "\n",
    "# train_data['Victim_Sex']"
   ]
  },
  {
   "cell_type": "code",
   "execution_count": 5,
   "id": "3cceb4c2",
   "metadata": {
    "execution": {
     "iopub.execute_input": "2024-08-10T18:28:22.088984Z",
     "iopub.status.busy": "2024-08-10T18:28:22.088593Z",
     "iopub.status.idle": "2024-08-10T18:28:22.310116Z",
     "shell.execute_reply": "2024-08-10T18:28:22.308948Z"
    },
    "papermill": {
     "duration": 0.233017,
     "end_time": "2024-08-10T18:28:22.312599",
     "exception": false,
     "start_time": "2024-08-10T18:28:22.079582",
     "status": "completed"
    },
    "tags": []
   },
   "outputs": [
    {
     "name": "stderr",
     "output_type": "stream",
     "text": [
      "/tmp/ipykernel_18/3928704231.py:23: UserWarning: Could not infer format, so each element will be parsed individually, falling back to `dateutil`. To ensure parsing is consistent and as-expected, please specify a format.\n",
      "  train_data['Date_Occurred'] = pd.to_datetime(train_data['Date_Occurred'], errors='coerce')\n",
      "/tmp/ipykernel_18/3928704231.py:24: UserWarning: Could not infer format, so each element will be parsed individually, falling back to `dateutil`. To ensure parsing is consistent and as-expected, please specify a format.\n",
      "  test_data['Date_Occurred'] = pd.to_datetime(test_data['Date_Occurred'], errors='coerce')\n"
     ]
    }
   ],
   "source": [
    "# Impute missing values in 'Modus_Operandi' and 'Weapon_Description' with 'Unknown'\n",
    "mo_imputer = SimpleImputer(strategy='constant', fill_value='Unknown')\n",
    "train_data['Modus_Operandi'] = mo_imputer.fit_transform(train_data[['Modus_Operandi']]).ravel()\n",
    "test_data['Modus_Operandi'] = mo_imputer.transform(test_data[['Modus_Operandi']]).ravel()\n",
    "\n",
    "train_data['Weapon_Description'] = mo_imputer.fit_transform(train_data[['Weapon_Description']]).ravel()\n",
    "test_data['Weapon_Description'] = mo_imputer.transform(test_data[['Weapon_Description']]).ravel()\n",
    "\n",
    "# Impute missing values in 'Victim_Sex' and 'Victim_Descent' with 'Unknown'\n",
    "sex_imputer = SimpleImputer(strategy='constant', fill_value='Unknown')\n",
    "train_data['Victim_Sex'] = sex_imputer.fit_transform(train_data[['Victim_Sex']]).ravel()\n",
    "test_data['Victim_Sex'] = sex_imputer.transform(test_data[['Victim_Sex']]).ravel()\n",
    "\n",
    "train_data['Victim_Descent'] = sex_imputer.fit_transform(train_data[['Victim_Descent']]).ravel()\n",
    "test_data['Victim_Descent'] = sex_imputer.transform(test_data[['Victim_Descent']]).ravel()\n",
    "\n",
    "# Impute missing values in 'Premise_Description' with the most frequent value\n",
    "premises_imputer = SimpleImputer(strategy='most_frequent')\n",
    "train_data['Premise_Description'] = premises_imputer.fit_transform(train_data[['Premise_Description']]).ravel()\n",
    "test_data['Premise_Description'] = premises_imputer.transform(test_data[['Premise_Description']]).ravel()\n",
    "\n",
    "# Extract date and time features from 'Date_Occurred' and 'Time_Occurred'\n",
    "train_data['Date_Occurred'] = pd.to_datetime(train_data['Date_Occurred'], errors='coerce')\n",
    "test_data['Date_Occurred'] = pd.to_datetime(test_data['Date_Occurred'], errors='coerce')\n",
    "\n",
    "train_data['Month'] = train_data['Date_Occurred'].dt.month\n",
    "train_data['Day'] = train_data['Date_Occurred'].dt.day\n",
    "train_data['Hour'] = train_data['Time_Occurred'].apply(lambda x: int(str(x).zfill(4)[:2]))\n",
    "\n",
    "test_data['Month'] = test_data['Date_Occurred'].dt.month\n",
    "test_data['Day'] = test_data['Date_Occurred'].dt.day\n",
    "test_data['Hour'] = test_data['Time_Occurred'].apply(lambda x: int(str(x).zfill(4)[:2]))\n",
    "\n",
    "# Drop columns with a high percentage of missing values\n",
    "columns_to_drop = ['Cross_Street', 'Weapon_Used_Code', 'Date_Occurred']\n",
    "train_data.drop(columns=columns_to_drop, inplace=True)\n",
    "test_data.drop(columns=columns_to_drop, inplace=True)\n",
    "\n",
    "# Define the features and target\n",
    "X = train_data.drop(columns=['Crime_Category'])\n",
    "y = train_data['Crime_Category']\n",
    "\n",
    "# Split the data into training and validation sets\n",
    "X_train, X_test, y_train, y_test = train_test_split(X, y, test_size=0.2, random_state=42)\n",
    "\n",
    "# Identify categorical and numerical columns\n",
    "categorical_cols = [col for col in X_train.columns if X_train[col].dtype == 'object']\n",
    "numerical_cols = [col for col in X_train.columns if X_train[col].dtype == 'float64']\n",
    "\n",
    "\n",
    "\n",
    "# Standardize Latitude and Longitude\n",
    "scaler = StandardScaler()\n",
    "train_data[['Latitude', 'Longitude']] = scaler.fit_transform(train_data[['Latitude', 'Longitude']])\n",
    "test_data[['Latitude', 'Longitude']] = scaler.transform(test_data[['Latitude', 'Longitude']])"
   ]
  },
  {
   "cell_type": "code",
   "execution_count": 6,
   "id": "27980f06",
   "metadata": {
    "execution": {
     "iopub.execute_input": "2024-08-10T18:28:22.330273Z",
     "iopub.status.busy": "2024-08-10T18:28:22.329566Z",
     "iopub.status.idle": "2024-08-10T18:28:22.353069Z",
     "shell.execute_reply": "2024-08-10T18:28:22.351952Z"
    },
    "papermill": {
     "duration": 0.034991,
     "end_time": "2024-08-10T18:28:22.355504",
     "exception": false,
     "start_time": "2024-08-10T18:28:22.320513",
     "status": "completed"
    },
    "tags": []
   },
   "outputs": [
    {
     "name": "stdout",
     "output_type": "stream",
     "text": [
      "Location                 0\n",
      "Latitude                 0\n",
      "Longitude                0\n",
      "Date_Reported            0\n",
      "Time_Occurred            0\n",
      "Area_ID                  0\n",
      "Area_Name                0\n",
      "Reporting_District_no    0\n",
      "Part 1-2                 0\n",
      "Modus_Operandi           0\n",
      "Victim_Age               0\n",
      "Victim_Sex               0\n",
      "Victim_Descent           0\n",
      "Premise_Code             0\n",
      "Premise_Description      0\n",
      "Weapon_Description       0\n",
      "Status                   0\n",
      "Status_Description       0\n",
      "Crime_Category           0\n",
      "Month                    0\n",
      "Day                      0\n",
      "Hour                     0\n",
      "dtype: int64\n",
      "Location                 0\n",
      "Latitude                 0\n",
      "Longitude                0\n",
      "Date_Reported            0\n",
      "Time_Occurred            0\n",
      "Area_ID                  0\n",
      "Area_Name                0\n",
      "Reporting_District_no    0\n",
      "Part 1-2                 0\n",
      "Modus_Operandi           0\n",
      "Victim_Age               0\n",
      "Victim_Sex               0\n",
      "Victim_Descent           0\n",
      "Premise_Code             0\n",
      "Premise_Description      0\n",
      "Weapon_Description       0\n",
      "Status                   0\n",
      "Status_Description       0\n",
      "Month                    0\n",
      "Day                      0\n",
      "Hour                     0\n",
      "dtype: int64\n"
     ]
    }
   ],
   "source": [
    "print(train_data.isnull().sum())\n",
    "print(test_data.isnull().sum())"
   ]
  },
  {
   "cell_type": "code",
   "execution_count": 7,
   "id": "52901fc0",
   "metadata": {
    "execution": {
     "iopub.execute_input": "2024-08-10T18:28:22.373381Z",
     "iopub.status.busy": "2024-08-10T18:28:22.373007Z",
     "iopub.status.idle": "2024-08-10T18:28:23.813216Z",
     "shell.execute_reply": "2024-08-10T18:28:23.812049Z"
    },
    "papermill": {
     "duration": 1.451655,
     "end_time": "2024-08-10T18:28:23.815618",
     "exception": false,
     "start_time": "2024-08-10T18:28:22.363963",
     "status": "completed"
    },
    "tags": []
   },
   "outputs": [
    {
     "data": {
      "image/png": "[encoded data removed]",
      "text/plain": [
       "<Figure size 640x480 with 1 Axes>"
      ]
     },
     "metadata": {},
     "output_type": "display_data"
    },
    {
     "data": {
      "image/png": "[encoded data removed]",
      "text/plain": [
       "<Figure size 640x480 with 1 Axes>"
      ]
     },
     "metadata": {},
     "output_type": "display_data"
    },
    {
     "data": {
      "image/png": "[encoded data removed]",
      "text/plain": [
       "<Figure size 640x480 with 1 Axes>"
      ]
     },
     "metadata": {},
     "output_type": "display_data"
    }
   ],
   "source": [
    "\n",
    "import seaborn as sns\n",
    "import matplotlib.pyplot as plt\n",
    "\n",
    "sns.countplot(data=train_data, x = 'Crime_Category', hue = 'Area_Name')\n",
    "plt.xticks(rotation = 90)\n",
    "plt.show()\n",
    "\n",
    "\n",
    "sns.countplot(data=train_data, x='Crime_Category', hue='Victim_Sex')\n",
    "plt.xticks(rotation=90)\n",
    "plt.show()\n",
    "\n",
    "sns.boxplot(data=train_data, x='Crime_Category', y='Victim_Age')\n",
    "plt.xticks(rotation=90)\n",
    "plt.show()"
   ]
  },
  {
   "cell_type": "code",
   "execution_count": 8,
   "id": "2e814e40",
   "metadata": {
    "execution": {
     "iopub.execute_input": "2024-08-10T18:28:23.838236Z",
     "iopub.status.busy": "2024-08-10T18:28:23.837844Z",
     "iopub.status.idle": "2024-08-10T18:28:24.060543Z",
     "shell.execute_reply": "2024-08-10T18:28:24.059196Z"
    },
    "papermill": {
     "duration": 0.236976,
     "end_time": "2024-08-10T18:28:24.062918",
     "exception": false,
     "start_time": "2024-08-10T18:28:23.825942",
     "status": "completed"
    },
    "tags": []
   },
   "outputs": [
    {
     "data": {
      "image/png": "[encoded data removed]",
      "text/plain": [
       "<Figure size 640x480 with 1 Axes>"
      ]
     },
     "metadata": {},
     "output_type": "display_data"
    }
   ],
   "source": [
    "# Box plot for a numerical feature vs. target variable\n",
    "sns.boxplot(x='Crime_Category', y='Victim_Age', data=train_data)\n",
    "plt.show()\n"
   ]
  },
  {
   "cell_type": "code",
   "execution_count": 9,
   "id": "8f9a77ed",
   "metadata": {
    "execution": {
     "iopub.execute_input": "2024-08-10T18:28:24.087630Z",
     "iopub.status.busy": "2024-08-10T18:28:24.086526Z",
     "iopub.status.idle": "2024-08-10T18:28:24.210881Z",
     "shell.execute_reply": "2024-08-10T18:28:24.209641Z"
    },
    "papermill": {
     "duration": 0.140513,
     "end_time": "2024-08-10T18:28:24.214130",
     "exception": false,
     "start_time": "2024-08-10T18:28:24.073617",
     "status": "completed"
    },
    "tags": []
   },
   "outputs": [
    {
     "data": {
      "image/png": "[encoded data removed]",
      "text/plain": [
       "<Figure size 640x480 with 1 Axes>"
      ]
     },
     "metadata": {},
     "output_type": "display_data"
    }
   ],
   "source": [
    "import seaborn as sns\n",
    "\n",
    "# Box plot for numerical features\n",
    "sns.boxplot(train_data['Victim_Age'])\n",
    "plt.show()\n",
    "\n"
   ]
  },
  {
   "cell_type": "code",
   "execution_count": 10,
   "id": "1c3285c2",
   "metadata": {
    "execution": {
     "iopub.execute_input": "2024-08-10T18:28:24.250253Z",
     "iopub.status.busy": "2024-08-10T18:28:24.249869Z",
     "iopub.status.idle": "2024-08-10T18:28:24.261251Z",
     "shell.execute_reply": "2024-08-10T18:28:24.260181Z"
    },
    "papermill": {
     "duration": 0.031752,
     "end_time": "2024-08-10T18:28:24.263660",
     "exception": false,
     "start_time": "2024-08-10T18:28:24.231908",
     "status": "completed"
    },
    "tags": []
   },
   "outputs": [],
   "source": [
    "# Split the data into features and target\n",
    "X = train_data.drop(columns=['Crime_Category'])\n",
    "y = train_data['Crime_Category']"
   ]
  },
  {
   "cell_type": "code",
   "execution_count": 11,
   "id": "df13b950",
   "metadata": {
    "execution": {
     "iopub.execute_input": "2024-08-10T18:28:24.291154Z",
     "iopub.status.busy": "2024-08-10T18:28:24.289980Z",
     "iopub.status.idle": "2024-08-10T18:28:24.314540Z",
     "shell.execute_reply": "2024-08-10T18:28:24.312861Z"
    },
    "papermill": {
     "duration": 0.041522,
     "end_time": "2024-08-10T18:28:24.317611",
     "exception": false,
     "start_time": "2024-08-10T18:28:24.276089",
     "status": "completed"
    },
    "tags": []
   },
   "outputs": [],
   "source": [
    "# Split the data into training and validation sets\n",
    "X_train, X_test, y_train, y_test = train_test_split(X, y, test_size=0.2, random_state=42)\n"
   ]
  },
  {
   "cell_type": "code",
   "execution_count": 12,
   "id": "9be5bfec",
   "metadata": {
    "execution": {
     "iopub.execute_input": "2024-08-10T18:28:24.345704Z",
     "iopub.status.busy": "2024-08-10T18:28:24.345291Z",
     "iopub.status.idle": "2024-08-10T18:28:24.351874Z",
     "shell.execute_reply": "2024-08-10T18:28:24.350651Z"
    },
    "papermill": {
     "duration": 0.021356,
     "end_time": "2024-08-10T18:28:24.354086",
     "exception": false,
     "start_time": "2024-08-10T18:28:24.332730",
     "status": "completed"
    },
    "tags": []
   },
   "outputs": [],
   "source": [
    "# Identify categorical and numerical columns\n",
    "categorical_cols = [col for col in X_train.columns if X_train[col].dtype == 'object']\n",
    "numerical_cols = [col for col in X_train.columns if X_train[col].dtype == 'float64']\n"
   ]
  },
  {
   "cell_type": "code",
   "execution_count": 13,
   "id": "e81ba83c",
   "metadata": {
    "execution": {
     "iopub.execute_input": "2024-08-10T18:28:24.381621Z",
     "iopub.status.busy": "2024-08-10T18:28:24.381106Z",
     "iopub.status.idle": "2024-08-10T18:28:24.388627Z",
     "shell.execute_reply": "2024-08-10T18:28:24.387406Z"
    },
    "papermill": {
     "duration": 0.025827,
     "end_time": "2024-08-10T18:28:24.390889",
     "exception": false,
     "start_time": "2024-08-10T18:28:24.365062",
     "status": "completed"
    },
    "tags": []
   },
   "outputs": [],
   "source": [
    "# Define preprocessing pipeline\n",
    "preprocessor = ColumnTransformer(\n",
    "    transformers=[\n",
    "        ('cat', Pipeline(steps=[\n",
    "            ('imputer', SimpleImputer(strategy='constant', fill_value='missing')),\n",
    "            ('onehot', OneHotEncoder(handle_unknown='ignore', sparse=False))\n",
    "        ]), categorical_cols),\n",
    "        ('num', StandardScaler(), numerical_cols)\n",
    "    ],\n",
    "    remainder='passthrough'\n",
    ")"
   ]
  },
  {
   "cell_type": "code",
   "execution_count": 14,
   "id": "fd4e6fcc",
   "metadata": {
    "execution": {
     "iopub.execute_input": "2024-08-10T18:28:24.425737Z",
     "iopub.status.busy": "2024-08-10T18:28:24.425078Z",
     "iopub.status.idle": "2024-08-10T18:28:28.286621Z",
     "shell.execute_reply": "2024-08-10T18:28:28.285462Z"
    },
    "papermill": {
     "duration": 3.881638,
     "end_time": "2024-08-10T18:28:28.289173",
     "exception": false,
     "start_time": "2024-08-10T18:28:24.407535",
     "status": "completed"
    },
    "tags": []
   },
   "outputs": [
    {
     "name": "stderr",
     "output_type": "stream",
     "text": [
      "/opt/conda/lib/python3.10/site-packages/sklearn/preprocessing/_encoders.py:868: FutureWarning: `sparse` was renamed to `sparse_output` in version 1.2 and will be removed in 1.4. `sparse_output` is ignored unless you leave `sparse` to its default value.\n",
      "  warnings.warn(\n"
     ]
    }
   ],
   "source": [
    "# Fit and transform the training data\n",
    "X_train_transformed = preprocessor.fit_transform(X_train)\n",
    "X_test_transformed = preprocessor.transform(X_test)\n",
    "test_data_transformed = preprocessor.transform(test_data)\n",
    "\n",
    "# Convert to DataFrame for easier handling\n",
    "X_train_transformed = pd.DataFrame(X_train_transformed, columns=preprocessor.get_feature_names_out())\n",
    "X_test_transformed = pd.DataFrame(X_test_transformed, columns=preprocessor.get_feature_names_out())\n"
   ]
  },
  {
   "cell_type": "code",
   "execution_count": 15,
   "id": "7412d5a1",
   "metadata": {
    "execution": {
     "iopub.execute_input": "2024-08-10T18:28:28.313855Z",
     "iopub.status.busy": "2024-08-10T18:28:28.313417Z",
     "iopub.status.idle": "2024-08-10T18:28:28.318757Z",
     "shell.execute_reply": "2024-08-10T18:28:28.317383Z"
    },
    "papermill": {
     "duration": 0.020198,
     "end_time": "2024-08-10T18:28:28.321394",
     "exception": false,
     "start_time": "2024-08-10T18:28:28.301196",
     "status": "completed"
    },
    "tags": []
   },
   "outputs": [],
   "source": [
    "# SVM model\n",
    "svm_model = SVC(kernel='linear', C=1.0, random_state=42)"
   ]
  },
  {
   "cell_type": "code",
   "execution_count": 16,
   "id": "203b5c44",
   "metadata": {
    "execution": {
     "iopub.execute_input": "2024-08-10T18:28:28.347033Z",
     "iopub.status.busy": "2024-08-10T18:28:28.346636Z",
     "iopub.status.idle": "2024-08-10T18:55:58.825296Z",
     "shell.execute_reply": "2024-08-10T18:55:58.823876Z"
    },
    "papermill": {
     "duration": 1650.495349,
     "end_time": "2024-08-10T18:55:58.829165",
     "exception": false,
     "start_time": "2024-08-10T18:28:28.333816",
     "status": "completed"
    },
    "tags": []
   },
   "outputs": [],
   "source": [
    "# Training the model\n",
    "svm_model.fit(X_train_transformed, y_train)\n",
    "\n",
    "#Predictions on the validation set\n",
    "y_pred = svm_model.predict(X_test_transformed)"
   ]
  },
  {
   "cell_type": "code",
   "execution_count": 17,
   "id": "02293df8",
   "metadata": {
    "execution": {
     "iopub.execute_input": "2024-08-10T18:55:58.868893Z",
     "iopub.status.busy": "2024-08-10T18:55:58.868338Z",
     "iopub.status.idle": "2024-08-10T19:01:49.951653Z",
     "shell.execute_reply": "2024-08-10T19:01:49.950326Z"
    },
    "papermill": {
     "duration": 351.106917,
     "end_time": "2024-08-10T19:01:49.955453",
     "exception": false,
     "start_time": "2024-08-10T18:55:58.848536",
     "status": "completed"
    },
    "tags": []
   },
   "outputs": [
    {
     "name": "stderr",
     "output_type": "stream",
     "text": [
      "/opt/conda/lib/python3.10/site-packages/sklearn/base.py:439: UserWarning: X does not have valid feature names, but SVC was fitted with feature names\n",
      "  warnings.warn(\n"
     ]
    }
   ],
   "source": [
    "# Predictions on the test data\n",
    "test_predictions = svm_model.predict(test_data_transformed)\n"
   ]
  },
  {
   "cell_type": "code",
   "execution_count": 18,
   "id": "a6836436",
   "metadata": {
    "execution": {
     "iopub.execute_input": "2024-08-10T19:01:49.999683Z",
     "iopub.status.busy": "2024-08-10T19:01:49.999107Z",
     "iopub.status.idle": "2024-08-10T19:01:50.157942Z",
     "shell.execute_reply": "2024-08-10T19:01:50.156696Z"
    },
    "papermill": {
     "duration": 0.185871,
     "end_time": "2024-08-10T19:01:50.160303",
     "exception": false,
     "start_time": "2024-08-10T19:01:49.974432",
     "status": "completed"
    },
    "tags": []
   },
   "outputs": [
    {
     "name": "stdout",
     "output_type": "stream",
     "text": [
      "SVM Accuracy: 0.876\n",
      "SVM Classification Report:\n",
      "                                precision    recall  f1-score   support\n",
      "\n",
      "       Crimes against Persons       0.37      0.22      0.27        32\n",
      "  Crimes against Public Order       0.69      0.67      0.68       374\n",
      "Fraud and White-Collar Crimes       0.80      0.85      0.82       267\n",
      "                 Other Crimes       0.13      0.06      0.08        35\n",
      "              Property Crimes       0.95      0.93      0.94      2303\n",
      "               Violent Crimes       0.82      0.89      0.86       989\n",
      "\n",
      "                     accuracy                           0.88      4000\n",
      "                    macro avg       0.63      0.60      0.61      4000\n",
      "                 weighted avg       0.87      0.88      0.87      4000\n",
      "\n"
     ]
    }
   ],
   "source": [
    "print(\"SVM Accuracy:\", accuracy_score(y_test, y_pred))\n",
    "print(\"SVM Classification Report:\\n\", classification_report(y_test, y_pred))"
   ]
  },
  {
   "cell_type": "code",
   "execution_count": 19,
   "id": "81833dad",
   "metadata": {
    "execution": {
     "iopub.execute_input": "2024-08-10T19:01:50.184672Z",
     "iopub.status.busy": "2024-08-10T19:01:50.184261Z",
     "iopub.status.idle": "2024-08-10T19:01:50.189079Z",
     "shell.execute_reply": "2024-08-10T19:01:50.187805Z"
    },
    "papermill": {
     "duration": 0.019368,
     "end_time": "2024-08-10T19:01:50.191283",
     "exception": false,
     "start_time": "2024-08-10T19:01:50.171915",
     "status": "completed"
    },
    "tags": []
   },
   "outputs": [],
   "source": [
    "# # from sklearn.feature_selection import SelectKBest, chi2\n",
    "\n",
    "# # # Example: Feature selection\n",
    "# # X = train_data.drop(columns=['Crime_Category'])\n",
    "# # y = train_data['Crime_Category']\n",
    "# # selector = SelectKBest(chi2, k=10)\n",
    "# # X_new = selector.fit_transform(X, y)\n",
    "\n",
    "# print(train_data.shape)\n",
    "# print(train_data.columns)\n",
    "# test_data.shape\n",
    "# print(test_data.columns)"
   ]
  },
  {
   "cell_type": "code",
   "execution_count": 20,
   "id": "afd7897b",
   "metadata": {
    "execution": {
     "iopub.execute_input": "2024-08-10T19:01:50.215152Z",
     "iopub.status.busy": "2024-08-10T19:01:50.214767Z",
     "iopub.status.idle": "2024-08-10T19:03:39.729305Z",
     "shell.execute_reply": "2024-08-10T19:03:39.728275Z"
    },
    "papermill": {
     "duration": 109.540622,
     "end_time": "2024-08-10T19:03:39.743124",
     "exception": false,
     "start_time": "2024-08-10T19:01:50.202502",
     "status": "completed"
    },
    "tags": []
   },
   "outputs": [
    {
     "data": {
      "text/html": [
       "<style>#sk-container-id-1 {color: black;background-color: white;}#sk-container-id-1 pre{padding: 0;}#sk-container-id-1 div.sk-toggleable {background-color: white;}#sk-container-id-1 label.sk-toggleable__label {cursor: pointer;display: block;width: 100%;margin-bottom: 0;padding: 0.3em;box-sizing: border-box;text-align: center;}#sk-container-id-1 label.sk-toggleable__label-arrow:before {content: \"▸\";float: left;margin-right: 0.25em;color: #696969;}#sk-container-id-1 label.sk-toggleable__label-arrow:hover:before {color: black;}#sk-container-id-1 div.sk-estimator:hover label.sk-toggleable__label-arrow:before {color: black;}#sk-container-id-1 div.sk-toggleable__content {max-height: 0;max-width: 0;overflow: hidden;text-align: left;background-color: #f0f8ff;}#sk-container-id-1 div.sk-toggleable__content pre {margin: 0.2em;color: black;border-radius: 0.25em;background-color: #f0f8ff;}#sk-container-id-1 input.sk-toggleable__control:checked~div.sk-toggleable__content {max-height: 200px;max-width: 100%;overflow: auto;}#sk-container-id-1 input.sk-toggleable__control:checked~label.sk-toggleable__label-arrow:before {content: \"▾\";}#sk-container-id-1 div.sk-estimator input.sk-toggleable__control:checked~label.sk-toggleable__label {background-color: #d4ebff;}#sk-container-id-1 div.sk-label input.sk-toggleable__control:checked~label.sk-toggleable__label {background-color: #d4ebff;}#sk-container-id-1 input.sk-hidden--visually {border: 0;clip: rect(1px 1px 1px 1px);clip: rect(1px, 1px, 1px, 1px);height: 1px;margin: -1px;overflow: hidden;padding: 0;position: absolute;width: 1px;}#sk-container-id-1 div.sk-estimator {font-family: monospace;background-color: #f0f8ff;border: 1px dotted black;border-radius: 0.25em;box-sizing: border-box;margin-bottom: 0.5em;}#sk-container-id-1 div.sk-estimator:hover {background-color: #d4ebff;}#sk-container-id-1 div.sk-parallel-item::after {content: \"\";width: 100%;border-bottom: 1px solid gray;flex-grow: 1;}#sk-container-id-1 div.sk-label:hover label.sk-toggleable__label {background-color: #d4ebff;}#sk-container-id-1 div.sk-serial::before {content: \"\";position: absolute;border-left: 1px solid gray;box-sizing: border-box;top: 0;bottom: 0;left: 50%;z-index: 0;}#sk-container-id-1 div.sk-serial {display: flex;flex-direction: column;align-items: center;background-color: white;padding-right: 0.2em;padding-left: 0.2em;position: relative;}#sk-container-id-1 div.sk-item {position: relative;z-index: 1;}#sk-container-id-1 div.sk-parallel {display: flex;align-items: stretch;justify-content: center;background-color: white;position: relative;}#sk-container-id-1 div.sk-item::before, #sk-container-id-1 div.sk-parallel-item::before {content: \"\";position: absolute;border-left: 1px solid gray;box-sizing: border-box;top: 0;bottom: 0;left: 50%;z-index: -1;}#sk-container-id-1 div.sk-parallel-item {display: flex;flex-direction: column;z-index: 1;position: relative;background-color: white;}#sk-container-id-1 div.sk-parallel-item:first-child::after {align-self: flex-end;width: 50%;}#sk-container-id-1 div.sk-parallel-item:last-child::after {align-self: flex-start;width: 50%;}#sk-container-id-1 div.sk-parallel-item:only-child::after {width: 0;}#sk-container-id-1 div.sk-dashed-wrapped {border: 1px dashed gray;margin: 0 0.4em 0.5em 0.4em;box-sizing: border-box;padding-bottom: 0.4em;background-color: white;}#sk-container-id-1 div.sk-label label {font-family: monospace;font-weight: bold;display: inline-block;line-height: 1.2em;}#sk-container-id-1 div.sk-label-container {text-align: center;}#sk-container-id-1 div.sk-container {/* jupyter's `normalize.less` sets `[hidden] { display: none; }` but bootstrap.min.css set `[hidden] { display: none !important; }` so we also need the `!important` here to be able to override the default hidden behavior on the sphinx rendered scikit-learn.org. See: https://github.com/scikit-learn/scikit-learn/issues/21755 */display: inline-block !important;position: relative;}#sk-container-id-1 div.sk-text-repr-fallback {display: none;}</style><div id=\"sk-container-id-1\" class=\"sk-top-container\"><div class=\"sk-text-repr-fallback\"><pre>RandomForestClassifier()</pre><b>In a Jupyter environment, please rerun this cell to show the HTML representation or trust the notebook. <br />On GitHub, the HTML representation is unable to render, please try loading this page with nbviewer.org.</b></div><div class=\"sk-container\" hidden><div class=\"sk-item\"><div class=\"sk-estimator sk-toggleable\"><input class=\"sk-toggleable__control sk-hidden--visually\" id=\"sk-estimator-id-1\" type=\"checkbox\" checked><label for=\"sk-estimator-id-1\" class=\"sk-toggleable__label sk-toggleable__label-arrow\">RandomForestClassifier</label><div class=\"sk-toggleable__content\"><pre>RandomForestClassifier()</pre></div></div></div></div></div>"
      ],
      "text/plain": [
       "RandomForestClassifier()"
      ]
     },
     "execution_count": 20,
     "metadata": {},
     "output_type": "execute_result"
    }
   ],
   "source": [
    "from sklearn.ensemble import RandomForestClassifier\n",
    "from sklearn.metrics import classification_report, accuracy_score,confusion_matrix\n",
    "\n",
    "# Example: Train Random Forest model\n",
    "model = RandomForestClassifier()\n",
    "model.fit(X_train_transformed, y_train)\n",
    "\n",
    "# Predict and evaluate\n",
    "# y_pred = model.predict(X_test_transformed)\n",
    "# print(accuracy_score(y_test, y_pred))\n",
    "# print(classification_report(y_test, y_pred))\n"
   ]
  },
  {
   "cell_type": "code",
   "execution_count": 21,
   "id": "a4005a06",
   "metadata": {
    "execution": {
     "iopub.execute_input": "2024-08-10T19:03:39.767737Z",
     "iopub.status.busy": "2024-08-10T19:03:39.767336Z",
     "iopub.status.idle": "2024-08-10T19:03:39.772142Z",
     "shell.execute_reply": "2024-08-10T19:03:39.770959Z"
    },
    "papermill": {
     "duration": 0.020032,
     "end_time": "2024-08-10T19:03:39.774511",
     "exception": false,
     "start_time": "2024-08-10T19:03:39.754479",
     "status": "completed"
    },
    "tags": []
   },
   "outputs": [],
   "source": [
    "RFC_model = model"
   ]
  },
  {
   "cell_type": "code",
   "execution_count": 22,
   "id": "3370fb33",
   "metadata": {
    "execution": {
     "iopub.execute_input": "2024-08-10T19:03:39.799433Z",
     "iopub.status.busy": "2024-08-10T19:03:39.798690Z",
     "iopub.status.idle": "2024-08-10T19:03:40.803887Z",
     "shell.execute_reply": "2024-08-10T19:03:40.802619Z"
    },
    "papermill": {
     "duration": 1.020972,
     "end_time": "2024-08-10T19:03:40.807026",
     "exception": false,
     "start_time": "2024-08-10T19:03:39.786054",
     "status": "completed"
    },
    "tags": []
   },
   "outputs": [
    {
     "name": "stdout",
     "output_type": "stream",
     "text": [
      "0.85225\n",
      "                               precision    recall  f1-score   support\n",
      "\n",
      "       Crimes against Persons       0.00      0.00      0.00        32\n",
      "  Crimes against Public Order       0.83      0.45      0.58       374\n",
      "Fraud and White-Collar Crimes       0.79      0.66      0.72       267\n",
      "                 Other Crimes       1.00      0.03      0.06        35\n",
      "              Property Crimes       0.87      0.94      0.91      2303\n",
      "               Violent Crimes       0.82      0.90      0.86       989\n",
      "\n",
      "                     accuracy                           0.85      4000\n",
      "                    macro avg       0.72      0.50      0.52      4000\n",
      "                 weighted avg       0.84      0.85      0.84      4000\n",
      "\n"
     ]
    },
    {
     "name": "stderr",
     "output_type": "stream",
     "text": [
      "/opt/conda/lib/python3.10/site-packages/sklearn/metrics/_classification.py:1344: UndefinedMetricWarning: Precision and F-score are ill-defined and being set to 0.0 in labels with no predicted samples. Use `zero_division` parameter to control this behavior.\n",
      "  _warn_prf(average, modifier, msg_start, len(result))\n",
      "/opt/conda/lib/python3.10/site-packages/sklearn/metrics/_classification.py:1344: UndefinedMetricWarning: Precision and F-score are ill-defined and being set to 0.0 in labels with no predicted samples. Use `zero_division` parameter to control this behavior.\n",
      "  _warn_prf(average, modifier, msg_start, len(result))\n",
      "/opt/conda/lib/python3.10/site-packages/sklearn/metrics/_classification.py:1344: UndefinedMetricWarning: Precision and F-score are ill-defined and being set to 0.0 in labels with no predicted samples. Use `zero_division` parameter to control this behavior.\n",
      "  _warn_prf(average, modifier, msg_start, len(result))\n"
     ]
    }
   ],
   "source": [
    "# Predict and evaluate\n",
    "y_pred = model.predict(X_test_transformed)\n",
    "print(accuracy_score(y_test, y_pred))\n",
    "print(classification_report(y_test, y_pred))"
   ]
  },
  {
   "cell_type": "code",
   "execution_count": 23,
   "id": "b80b6528",
   "metadata": {
    "execution": {
     "iopub.execute_input": "2024-08-10T19:03:40.832936Z",
     "iopub.status.busy": "2024-08-10T19:03:40.832530Z",
     "iopub.status.idle": "2024-08-10T19:03:41.324654Z",
     "shell.execute_reply": "2024-08-10T19:03:41.323545Z"
    },
    "papermill": {
     "duration": 0.507932,
     "end_time": "2024-08-10T19:03:41.327237",
     "exception": false,
     "start_time": "2024-08-10T19:03:40.819305",
     "status": "completed"
    },
    "tags": []
   },
   "outputs": [
    {
     "data": {
      "text/html": [
       "<style>#sk-container-id-2 {color: black;background-color: white;}#sk-container-id-2 pre{padding: 0;}#sk-container-id-2 div.sk-toggleable {background-color: white;}#sk-container-id-2 label.sk-toggleable__label {cursor: pointer;display: block;width: 100%;margin-bottom: 0;padding: 0.3em;box-sizing: border-box;text-align: center;}#sk-container-id-2 label.sk-toggleable__label-arrow:before {content: \"▸\";float: left;margin-right: 0.25em;color: #696969;}#sk-container-id-2 label.sk-toggleable__label-arrow:hover:before {color: black;}#sk-container-id-2 div.sk-estimator:hover label.sk-toggleable__label-arrow:before {color: black;}#sk-container-id-2 div.sk-toggleable__content {max-height: 0;max-width: 0;overflow: hidden;text-align: left;background-color: #f0f8ff;}#sk-container-id-2 div.sk-toggleable__content pre {margin: 0.2em;color: black;border-radius: 0.25em;background-color: #f0f8ff;}#sk-container-id-2 input.sk-toggleable__control:checked~div.sk-toggleable__content {max-height: 200px;max-width: 100%;overflow: auto;}#sk-container-id-2 input.sk-toggleable__control:checked~label.sk-toggleable__label-arrow:before {content: \"▾\";}#sk-container-id-2 div.sk-estimator input.sk-toggleable__control:checked~label.sk-toggleable__label {background-color: #d4ebff;}#sk-container-id-2 div.sk-label input.sk-toggleable__control:checked~label.sk-toggleable__label {background-color: #d4ebff;}#sk-container-id-2 input.sk-hidden--visually {border: 0;clip: rect(1px 1px 1px 1px);clip: rect(1px, 1px, 1px, 1px);height: 1px;margin: -1px;overflow: hidden;padding: 0;position: absolute;width: 1px;}#sk-container-id-2 div.sk-estimator {font-family: monospace;background-color: #f0f8ff;border: 1px dotted black;border-radius: 0.25em;box-sizing: border-box;margin-bottom: 0.5em;}#sk-container-id-2 div.sk-estimator:hover {background-color: #d4ebff;}#sk-container-id-2 div.sk-parallel-item::after {content: \"\";width: 100%;border-bottom: 1px solid gray;flex-grow: 1;}#sk-container-id-2 div.sk-label:hover label.sk-toggleable__label {background-color: #d4ebff;}#sk-container-id-2 div.sk-serial::before {content: \"\";position: absolute;border-left: 1px solid gray;box-sizing: border-box;top: 0;bottom: 0;left: 50%;z-index: 0;}#sk-container-id-2 div.sk-serial {display: flex;flex-direction: column;align-items: center;background-color: white;padding-right: 0.2em;padding-left: 0.2em;position: relative;}#sk-container-id-2 div.sk-item {position: relative;z-index: 1;}#sk-container-id-2 div.sk-parallel {display: flex;align-items: stretch;justify-content: center;background-color: white;position: relative;}#sk-container-id-2 div.sk-item::before, #sk-container-id-2 div.sk-parallel-item::before {content: \"\";position: absolute;border-left: 1px solid gray;box-sizing: border-box;top: 0;bottom: 0;left: 50%;z-index: -1;}#sk-container-id-2 div.sk-parallel-item {display: flex;flex-direction: column;z-index: 1;position: relative;background-color: white;}#sk-container-id-2 div.sk-parallel-item:first-child::after {align-self: flex-end;width: 50%;}#sk-container-id-2 div.sk-parallel-item:last-child::after {align-self: flex-start;width: 50%;}#sk-container-id-2 div.sk-parallel-item:only-child::after {width: 0;}#sk-container-id-2 div.sk-dashed-wrapped {border: 1px dashed gray;margin: 0 0.4em 0.5em 0.4em;box-sizing: border-box;padding-bottom: 0.4em;background-color: white;}#sk-container-id-2 div.sk-label label {font-family: monospace;font-weight: bold;display: inline-block;line-height: 1.2em;}#sk-container-id-2 div.sk-label-container {text-align: center;}#sk-container-id-2 div.sk-container {/* jupyter's `normalize.less` sets `[hidden] { display: none; }` but bootstrap.min.css set `[hidden] { display: none !important; }` so we also need the `!important` here to be able to override the default hidden behavior on the sphinx rendered scikit-learn.org. See: https://github.com/scikit-learn/scikit-learn/issues/21755 */display: inline-block !important;position: relative;}#sk-container-id-2 div.sk-text-repr-fallback {display: none;}</style><div id=\"sk-container-id-2\" class=\"sk-top-container\"><div class=\"sk-text-repr-fallback\"><pre>KNeighborsClassifier(n_neighbors=10)</pre><b>In a Jupyter environment, please rerun this cell to show the HTML representation or trust the notebook. <br />On GitHub, the HTML representation is unable to render, please try loading this page with nbviewer.org.</b></div><div class=\"sk-container\" hidden><div class=\"sk-item\"><div class=\"sk-estimator sk-toggleable\"><input class=\"sk-toggleable__control sk-hidden--visually\" id=\"sk-estimator-id-2\" type=\"checkbox\" checked><label for=\"sk-estimator-id-2\" class=\"sk-toggleable__label sk-toggleable__label-arrow\">KNeighborsClassifier</label><div class=\"sk-toggleable__content\"><pre>KNeighborsClassifier(n_neighbors=10)</pre></div></div></div></div></div>"
      ],
      "text/plain": [
       "KNeighborsClassifier(n_neighbors=10)"
      ]
     },
     "execution_count": 23,
     "metadata": {},
     "output_type": "execute_result"
    }
   ],
   "source": [
    "from sklearn.neighbors import KNeighborsClassifier\n",
    "\n",
    "# Initialize the KNN classifier with the number of neighbors (k)\n",
    "knn = KNeighborsClassifier(n_neighbors=10)  # You can tune the n_neighbors parameter\n",
    "\n",
    "# Train the model\n",
    "knn.fit(X_train_transformed, y_train)\n"
   ]
  },
  {
   "cell_type": "code",
   "execution_count": 24,
   "id": "a13587a9",
   "metadata": {
    "execution": {
     "iopub.execute_input": "2024-08-10T19:03:41.353859Z",
     "iopub.status.busy": "2024-08-10T19:03:41.352992Z",
     "iopub.status.idle": "2024-08-10T19:04:20.584138Z",
     "shell.execute_reply": "2024-08-10T19:04:20.582973Z"
    },
    "papermill": {
     "duration": 39.258717,
     "end_time": "2024-08-10T19:04:20.598422",
     "exception": false,
     "start_time": "2024-08-10T19:03:41.339705",
     "status": "completed"
    },
    "tags": []
   },
   "outputs": [
    {
     "name": "stdout",
     "output_type": "stream",
     "text": [
      "0.70125\n",
      "                               precision    recall  f1-score   support\n",
      "\n",
      "       Crimes against Persons       0.00      0.00      0.00        32\n",
      "  Crimes against Public Order       0.34      0.11      0.17       374\n",
      "Fraud and White-Collar Crimes       0.45      0.44      0.44       267\n",
      "                 Other Crimes       0.00      0.00      0.00        35\n",
      "              Property Crimes       0.73      0.94      0.83      2303\n",
      "               Violent Crimes       0.74      0.47      0.58       989\n",
      "\n",
      "                     accuracy                           0.70      4000\n",
      "                    macro avg       0.38      0.33      0.34      4000\n",
      "                 weighted avg       0.67      0.70      0.66      4000\n",
      "\n"
     ]
    }
   ],
   "source": [
    "y_pred = knn.predict(X_test_transformed)\n",
    "print(accuracy_score(y_test, y_pred))\n",
    "print(classification_report(y_test, y_pred))"
   ]
  },
  {
   "cell_type": "code",
   "execution_count": 25,
   "id": "05706362",
   "metadata": {
    "execution": {
     "iopub.execute_input": "2024-08-10T19:04:20.625603Z",
     "iopub.status.busy": "2024-08-10T19:04:20.625160Z",
     "iopub.status.idle": "2024-08-10T19:46:59.761684Z",
     "shell.execute_reply": "2024-08-10T19:46:59.760375Z"
    },
    "papermill": {
     "duration": 2559.163848,
     "end_time": "2024-08-10T19:46:59.775567",
     "exception": false,
     "start_time": "2024-08-10T19:04:20.611719",
     "status": "completed"
    },
    "tags": []
   },
   "outputs": [
    {
     "name": "stdout",
     "output_type": "stream",
     "text": [
      "Best Parameters: {'n_neighbors': 9}\n",
      "\n",
      "Best KNN Model Accuracy: 0.704\n"
     ]
    }
   ],
   "source": [
    "from sklearn.model_selection import GridSearchCV\n",
    "\n",
    "# Define the parameter grid\n",
    "param_grid = {'n_neighbors': range(1, 20)}\n",
    "\n",
    "# Initialize the GridSearchCV object\n",
    "grid_search = GridSearchCV(KNeighborsClassifier(), param_grid, cv=5)\n",
    "\n",
    "# Fit the model to the data\n",
    "grid_search.fit(X_train_transformed, y_train)\n",
    "\n",
    "# Best parameters found\n",
    "print(\"Best Parameters:\", grid_search.best_params_)\n",
    "\n",
    "# Use the best model\n",
    "best_knn = grid_search.best_estimator_\n",
    "\n",
    "# Predict and evaluate \n",
    "y_pred_best = best_knn.predict(X_test_transformed)\n",
    "print(\"\\nBest KNN Model Accuracy:\", accuracy_score(y_test, y_pred_best))\n"
   ]
  },
  {
   "cell_type": "code",
   "execution_count": 26,
   "id": "6dff93f1",
   "metadata": {
    "execution": {
     "iopub.execute_input": "2024-08-10T19:46:59.802370Z",
     "iopub.status.busy": "2024-08-10T19:46:59.802005Z",
     "iopub.status.idle": "2024-08-10T19:46:59.812329Z",
     "shell.execute_reply": "2024-08-10T19:46:59.811173Z"
    },
    "papermill": {
     "duration": 0.026792,
     "end_time": "2024-08-10T19:46:59.814539",
     "exception": false,
     "start_time": "2024-08-10T19:46:59.787747",
     "status": "completed"
    },
    "tags": []
   },
   "outputs": [],
   "source": [
    "from sklearn.preprocessing import LabelEncoder\n",
    "# Encode the target labels\n",
    "label_encoder = LabelEncoder()\n",
    "y_train_encoded = label_encoder.fit_transform(y_train)\n",
    "y_test_encoded = label_encoder.transform(y_test)"
   ]
  },
  {
   "cell_type": "code",
   "execution_count": 27,
   "id": "8d0f4916",
   "metadata": {
    "execution": {
     "iopub.execute_input": "2024-08-10T19:46:59.842108Z",
     "iopub.status.busy": "2024-08-10T19:46:59.841304Z",
     "iopub.status.idle": "2024-08-10T19:46:59.846607Z",
     "shell.execute_reply": "2024-08-10T19:46:59.845467Z"
    },
    "papermill": {
     "duration": 0.021229,
     "end_time": "2024-08-10T19:46:59.848820",
     "exception": false,
     "start_time": "2024-08-10T19:46:59.827591",
     "status": "completed"
    },
    "tags": []
   },
   "outputs": [],
   "source": [
    "# import xgboost as xgb\n",
    "# # Training with XGBoost\n",
    "# xgb_model = xgb.XGBClassifier(n_estimators=100, max_depth=6, learning_rate=0.1, subsample=0.8, colsample_bytree=0.8, random_state=42)\n",
    "# xgb_model.fit(X_train_transformed, y_train_encoded)\n",
    "# y_pred_xgb = xgb_model.predict(X_test_transformed)\n",
    "# print(\"XGBoost Accuracy:\", accuracy_score(y_test, y_pred_xgb))\n",
    "# print(\"XGBoost Classification Report:\\n\", classification_report(y_test, y_pred_xgb))\n"
   ]
  },
  {
   "cell_type": "code",
   "execution_count": 28,
   "id": "ff45214a",
   "metadata": {
    "execution": {
     "iopub.execute_input": "2024-08-10T19:46:59.875281Z",
     "iopub.status.busy": "2024-08-10T19:46:59.874584Z",
     "iopub.status.idle": "2024-08-10T19:46:59.879259Z",
     "shell.execute_reply": "2024-08-10T19:46:59.878256Z"
    },
    "papermill": {
     "duration": 0.020251,
     "end_time": "2024-08-10T19:46:59.881426",
     "exception": false,
     "start_time": "2024-08-10T19:46:59.861175",
     "status": "completed"
    },
    "tags": []
   },
   "outputs": [],
   "source": [
    "# # Evaluate the model's performance\n",
    "# print(\"Confusion Matrix:\\n\", confusion_matrix(y_test, y_pred))\n",
    "# print(\"\\nClassification Report:\\n\", classification_report(y_test, y_pred))\n",
    "# print(\"\\nAccuracy Score:\", accuracy_score(y_test, y_pred))\n"
   ]
  },
  {
   "cell_type": "code",
   "execution_count": 29,
   "id": "22b49d8e",
   "metadata": {
    "execution": {
     "iopub.execute_input": "2024-08-10T19:46:59.908005Z",
     "iopub.status.busy": "2024-08-10T19:46:59.907643Z",
     "iopub.status.idle": "2024-08-10T19:46:59.913761Z",
     "shell.execute_reply": "2024-08-10T19:46:59.912530Z"
    },
    "papermill": {
     "duration": 0.022286,
     "end_time": "2024-08-10T19:46:59.916078",
     "exception": false,
     "start_time": "2024-08-10T19:46:59.893792",
     "status": "completed"
    },
    "tags": []
   },
   "outputs": [],
   "source": [
    "# from sklearn.model_selection import cross_val_score, GridSearchCV\n",
    "# from sklearn.metrics import make_scorer, accuracy_score, f1_score\n",
    "\n",
    "# # Define models\n",
    "# models = {\n",
    "#     'SVM': SVC(kernel='linear', random_state=42),\n",
    "#     'XGBoost': xgb.XGBClassifier(random_state=42),\n",
    "#     'LightGBM': lgb.LGBMClassifier(random_state=42)\n",
    "# }\n",
    "# q\n",
    "# # Define hyperparameters for each model\n",
    "# param_grids = {\n",
    "#     'SVM': {\n",
    "#         'C': [0.1, 1, 10],\n",
    "#         'kernel': ['linear', 'rbf']\n",
    "#     },\n",
    "#     'XGBoost': {\n",
    "#         'n_estimators': [50, 100, 200],\n",
    "#         'max_depth': [3, 6, 9],\n",
    "#         'learning_rate': [0.01, 0.1, 0.2]\n",
    "#     },\n",
    "#     'LightGBM': {\n",
    "#         'n_estimators': [50, 100, 200],\n",
    "#         'num_leaves': [31, 50, 100],\n",
    "#         'learning_rate': [0.01, 0.1, 0.2]\n",
    "#     }\n",
    "# }\n",
    "\n",
    "# # Results storage\n",
    "# best_models = {}\n",
    "# best_scores = {}\n",
    "# scoring = make_scorer(accuracy_score)  # or use 'f1_macro' for F1 score\n",
    "\n",
    "# # Iterate over models and perform Grid Search\n",
    "# for model_name, model in models.items():\n",
    "#     print(f\"Training {model_name}...\")\n",
    "#     grid_search = GridSearchCV(model, param_grids[model_name], cv=5, scoring=scoring, n_jobs=-1)\n",
    "#     grid_search.fit(X_train_transformed, y_train)\n",
    "#     best_models[model_name] = grid_search.best_estimator_\n",
    "#     best_scores[model_name] = grid_search.best_score_\n",
    "#     print(f\"Best {model_name} score: {grid_search.best_score_} with params: {grid_search.best_params_}\")\n",
    "\n",
    "# # Compare the models\n",
    "# best_model_name = max(best_scores, key=best_scores.get)\n",
    "# best_model = best_models[best_model_name]\n",
    "# print(f\"Best model: {best_model_name} with score: {best_scores[best_model_name]}\")\n",
    "\n",
    "# # Final evaluation on the validation set\n",
    "# y_pred_best = best_model.predict(X_test_transformed)\n",
    "# print(f\"Final evaluation with the best model ({best_model_name}):\")\n",
    "# print(\"Accuracy:\", accuracy_score(y_test, y_pred_best))\n",
    "# print(\"Classification Report:\\n\", classification_report(y_test, y_pred_best))\n"
   ]
  },
  {
   "cell_type": "code",
   "execution_count": 30,
   "id": "6335f9f7",
   "metadata": {
    "execution": {
     "iopub.execute_input": "2024-08-10T19:46:59.942585Z",
     "iopub.status.busy": "2024-08-10T19:46:59.942125Z",
     "iopub.status.idle": "2024-08-10T19:46:59.948471Z",
     "shell.execute_reply": "2024-08-10T19:46:59.947355Z"
    },
    "papermill": {
     "duration": 0.022412,
     "end_time": "2024-08-10T19:46:59.950811",
     "exception": false,
     "start_time": "2024-08-10T19:46:59.928399",
     "status": "completed"
    },
    "tags": []
   },
   "outputs": [],
   "source": [
    "def make_submission_file(model):\n",
    "    y_test_pred = model.predict(test_data_transformed)\n",
    "     \n",
    "    output = pd.DataFrame(columns=[\"ID\",\"Crime_Category\"])\n",
    "    output[\"ID\"] = test_data.index+1\n",
    "    output['Crime_Category'] =  pd.Series(y_test_pred)\n",
    "    output['Crime_Category'] = output['Crime_Category']\n",
    " \n",
    "    print(output.head())\n",
    "    output.to_csv(\"/kaggle/working/submission.csv\", index=False)"
   ]
  },
  {
   "cell_type": "code",
   "execution_count": 31,
   "id": "1bbaa27f",
   "metadata": {
    "execution": {
     "iopub.execute_input": "2024-08-10T19:46:59.978236Z",
     "iopub.status.busy": "2024-08-10T19:46:59.977861Z",
     "iopub.status.idle": "2024-08-10T19:52:43.174836Z",
     "shell.execute_reply": "2024-08-10T19:52:43.173441Z"
    },
    "papermill": {
     "duration": 343.235994,
     "end_time": "2024-08-10T19:52:43.200282",
     "exception": false,
     "start_time": "2024-08-10T19:46:59.964288",
     "status": "completed"
    },
    "tags": []
   },
   "outputs": [
    {
     "name": "stderr",
     "output_type": "stream",
     "text": [
      "/opt/conda/lib/python3.10/site-packages/sklearn/base.py:439: UserWarning: X does not have valid feature names, but SVC was fitted with feature names\n",
      "  warnings.warn(\n"
     ]
    },
    {
     "name": "stdout",
     "output_type": "stream",
     "text": [
      "   ID               Crime_Category\n",
      "0   1               Violent Crimes\n",
      "1   2              Property Crimes\n",
      "2   3  Crimes against Public Order\n",
      "3   4              Property Crimes\n",
      "4   5  Crimes against Public Order\n"
     ]
    }
   ],
   "source": [
    "\n",
    "# test_data_transformed = preprocessor.transform(test_data)\n",
    "make_submission_file(svm_model)"
   ]
  }
 ],
 "metadata": {
  "kaggle": {
   "accelerator": "none",
   "dataSources": [
    {
     "databundleVersionId": 8446444,
     "sourceId": 77420,
     "sourceType": "competition"
    }
   ],
   "dockerImageVersionId": 30732,
   "isGpuEnabled": false,
   "isInternetEnabled": true,
   "language": "python",
   "sourceType": "notebook"
  },
  "kernelspec": {
   "display_name": "Python 3",
   "language": "python",
   "name": "python3"
  },
  "language_info": {
   "codemirror_mode": {
    "name": "ipython",
    "version": 3
   },
   "file_extension": ".py",
   "mimetype": "text/x-python",
   "name": "python",
   "nbconvert_exporter": "python",
   "pygments_lexer": "ipython3",
   "version": "3.10.13"
  },
  "papermill": {
   "default_parameters": {},
   "duration": 5068.125358,
   "end_time": "2024-08-10T19:52:44.060871",
   "environment_variables": {},
   "exception": null,
   "input_path": "__notebook__.ipynb",
   "output_path": "__notebook__.ipynb",
   "parameters": {},
   "start_time": "2024-08-10T18:28:15.935513",
   "version": "2.5.0"
  }
 },
 "nbformat": 4,
 "nbformat_minor": 5
}
